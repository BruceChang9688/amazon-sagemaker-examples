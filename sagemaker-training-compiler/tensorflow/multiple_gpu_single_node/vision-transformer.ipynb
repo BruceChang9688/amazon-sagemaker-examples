{
 "cells": [
  {
   "cell_type": "markdown",
   "id": "effc1e46",
   "metadata": {},
   "source": [
    "# Compile and Train a Vision Transformer Model on the Caltech-256 Dataset using a Single-Node Multi-GPU"
   ]
  },
  {
   "cell_type": "markdown",
   "id": "5b0a7a37",
   "metadata": {},
   "source": [
    "1. [Introduction](#Introduction)  \n",
    "2. [Development Environment and Permissions](#Development-Environment-and-Permissions)\n",
    "    1. [Installation](#Installation)  \n",
    "    2. [SageMaker environment](#SageMaker-environment)\n",
    "3. [Working with the Caltech-256 dataset](#Working-with-the-Caltech-256-dataset)   \n",
    "4. [SageMaker Training Job](#SageMaker-Training-Job)  \n",
    "    1. [Training Setup](#Training-Setup)  \n",
    "    2. [Training with Native TensorFlow](#Training-with-Native-TensorFlow)  \n",
    "    3. [Training with Optimized TensorFlow](#Training-with-Optimized-TensorFlow)  \n",
    "5. [Analysis](#Analysis)\n",
    "    1. [Savings from Training Compiler](#Savings-from-Training-Compiler)\n",
    "    2. [Convergence of Training](#Convergence-of-Training)\n",
    "6. [Clean up](#Clean-up)\n"
   ]
  },
  {
   "cell_type": "markdown",
   "id": "f277cdf4",
   "metadata": {},
   "source": [
    "## SageMaker Training Compiler Overview\n",
    "\n",
    "SageMaker Training Compiler is a capability of SageMaker that makes hard-to-implement optimizations to reduce training time on GPU instances. The compiler optimizes Deep Learning (DL) models to accelerate training by more efficiently using SageMaker machine learning (ML) GPU instances. SageMaker Training Compiler is available at no additional charge within SageMaker and can help reduce total billable time as it accelerates training. \n",
    "\n",
    "SageMaker Training Compiler is integrated into the AWS Deep Learning Containers (DLCs). Using the SageMaker Training Compiler enabled AWS DLCs, you can compile and optimize training jobs on GPU instances with minimal changes to your code. Bring your deep learning models to SageMaker and enable SageMaker Training Compiler to accelerate the speed of your training job on SageMaker ML instances for accelerated computing. \n",
    "\n",
    "For more information, see [SageMaker Training Compiler](https://docs.aws.amazon.com/sagemaker/latest/dg/training-compiler.html) in the *Amazon SageMaker Developer Guide*.\n",
    "\n",
    "## Introduction\n",
    "\n",
    "In this demo, you'll use Amazon SageMaker Training Compiler to train the `Vision Transformer` model on the `Caltech-256` dataset. To get started, we need to set up the environment with a few prerequisite steps, for permissions, configurations, and so on. \n",
    "\n",
    "**NOTE:** You can run this demo in SageMaker Studio, SageMaker notebook instances, or your local machine with AWS CLI set up. If using SageMaker Studio or SageMaker notebook instances, make sure you choose one of the TensorFlow-based kernels, `Python 3 (TensorFlow x.y Python 3.x CPU Optimized)` or `conda_tesorflow_p39` respectively.\n",
    "\n",
    "**NOTE:** This notebook uses a `ml.p3.8xlarge` instance with multiple GPUs. If you don't have enough quota, see [Request a service quota increase for SageMaker resources](https://docs.aws.amazon.com/sagemaker/latest/dg/regions-quotas.html#service-limit-increase-request-procedure). "
   ]
  },
  {
   "cell_type": "markdown",
   "id": "d97f26e3",
   "metadata": {},
   "source": [
    "## Development Environment \n"
   ]
  },
  {
   "cell_type": "markdown",
   "id": "c3308218",
   "metadata": {},
   "source": [
    "### Installation\n",
    "\n",
    "This example notebook requires **SageMaker Python SDK v2.92.0 or later**\n"
   ]
  },
  {
   "cell_type": "code",
   "execution_count": 1,
   "id": "0abe2c68",
   "metadata": {},
   "outputs": [
    {
     "name": "stdout",
     "output_type": "stream",
     "text": [
      "Requirement already satisfied: sagemaker>=2.92 in /home/ec2-user/anaconda3/envs/tensorflow2_p36/lib/python3.6/site-packages (2.94.0)\n",
      "Requirement already satisfied: botocore in /home/ec2-user/anaconda3/envs/tensorflow2_p36/lib/python3.6/site-packages (1.26.10)\n",
      "Requirement already satisfied: boto3 in /home/ec2-user/anaconda3/envs/tensorflow2_p36/lib/python3.6/site-packages (1.23.10)\n",
      "Requirement already satisfied: awscli in /home/ec2-user/anaconda3/envs/tensorflow2_p36/lib/python3.6/site-packages (1.24.10)\n",
      "Requirement already satisfied: matplotlib in /home/ec2-user/anaconda3/envs/tensorflow2_p36/lib/python3.6/site-packages (3.3.4)\n",
      "Requirement already satisfied: protobuf<4.0,>=3.1 in /home/ec2-user/anaconda3/envs/tensorflow2_p36/lib/python3.6/site-packages (from sagemaker>=2.92) (3.15.2)\n",
      "Requirement already satisfied: numpy<2.0,>=1.9.0 in /home/ec2-user/anaconda3/envs/tensorflow2_p36/lib/python3.6/site-packages (from sagemaker>=2.92) (1.18.5)\n",
      "Requirement already satisfied: packaging>=20.0 in /home/ec2-user/anaconda3/envs/tensorflow2_p36/lib/python3.6/site-packages (from sagemaker>=2.92) (21.3)\n",
      "Requirement already satisfied: pathos in /home/ec2-user/anaconda3/envs/tensorflow2_p36/lib/python3.6/site-packages (from sagemaker>=2.92) (0.2.8)\n",
      "Requirement already satisfied: attrs==20.3.0 in /home/ec2-user/anaconda3/envs/tensorflow2_p36/lib/python3.6/site-packages (from sagemaker>=2.92) (20.3.0)\n",
      "Requirement already satisfied: google-pasta in /home/ec2-user/anaconda3/envs/tensorflow2_p36/lib/python3.6/site-packages (from sagemaker>=2.92) (0.2.0)\n",
      "Requirement already satisfied: protobuf3-to-dict<1.0,>=0.1.5 in /home/ec2-user/anaconda3/envs/tensorflow2_p36/lib/python3.6/site-packages (from sagemaker>=2.92) (0.1.5)\n",
      "Requirement already satisfied: importlib-metadata<5.0,>=1.4.0 in /home/ec2-user/anaconda3/envs/tensorflow2_p36/lib/python3.6/site-packages (from sagemaker>=2.92) (4.8.2)\n",
      "Requirement already satisfied: pandas in /home/ec2-user/anaconda3/envs/tensorflow2_p36/lib/python3.6/site-packages (from sagemaker>=2.92) (1.1.5)\n",
      "Requirement already satisfied: smdebug-rulesconfig==1.0.1 in /home/ec2-user/anaconda3/envs/tensorflow2_p36/lib/python3.6/site-packages (from sagemaker>=2.92) (1.0.1)\n",
      "Requirement already satisfied: python-dateutil<3.0.0,>=2.1 in /home/ec2-user/anaconda3/envs/tensorflow2_p36/lib/python3.6/site-packages (from botocore) (2.8.1)\n",
      "Requirement already satisfied: jmespath<2.0.0,>=0.7.1 in /home/ec2-user/anaconda3/envs/tensorflow2_p36/lib/python3.6/site-packages (from botocore) (0.10.0)\n",
      "Requirement already satisfied: urllib3<1.27,>=1.25.4 in /home/ec2-user/anaconda3/envs/tensorflow2_p36/lib/python3.6/site-packages (from botocore) (1.26.8)\n",
      "Requirement already satisfied: s3transfer<0.6.0,>=0.5.0 in /home/ec2-user/anaconda3/envs/tensorflow2_p36/lib/python3.6/site-packages (from boto3) (0.5.0)\n",
      "Requirement already satisfied: PyYAML<5.5,>=3.10 in /home/ec2-user/anaconda3/envs/tensorflow2_p36/lib/python3.6/site-packages (from awscli) (5.4.1)\n",
      "Requirement already satisfied: colorama<0.4.5,>=0.2.5 in /home/ec2-user/anaconda3/envs/tensorflow2_p36/lib/python3.6/site-packages (from awscli) (0.4.3)\n",
      "Requirement already satisfied: rsa<4.8,>=3.1.2 in /home/ec2-user/anaconda3/envs/tensorflow2_p36/lib/python3.6/site-packages (from awscli) (4.7.2)\n",
      "Requirement already satisfied: docutils<0.17,>=0.10 in /home/ec2-user/anaconda3/envs/tensorflow2_p36/lib/python3.6/site-packages (from awscli) (0.15.2)\n",
      "Requirement already satisfied: cycler>=0.10 in /home/ec2-user/anaconda3/envs/tensorflow2_p36/lib/python3.6/site-packages (from matplotlib) (0.10.0)\n",
      "Requirement already satisfied: pillow>=6.2.0 in /home/ec2-user/anaconda3/envs/tensorflow2_p36/lib/python3.6/site-packages (from matplotlib) (8.4.0)\n",
      "Requirement already satisfied: pyparsing!=2.0.4,!=2.1.2,!=2.1.6,>=2.0.3 in /home/ec2-user/anaconda3/envs/tensorflow2_p36/lib/python3.6/site-packages (from matplotlib) (2.4.7)\n",
      "Requirement already satisfied: kiwisolver>=1.0.1 in /home/ec2-user/anaconda3/envs/tensorflow2_p36/lib/python3.6/site-packages (from matplotlib) (1.3.1)\n",
      "Requirement already satisfied: six in /home/ec2-user/anaconda3/envs/tensorflow2_p36/lib/python3.6/site-packages (from cycler>=0.10->matplotlib) (1.15.0)\n",
      "Requirement already satisfied: zipp>=0.5 in /home/ec2-user/anaconda3/envs/tensorflow2_p36/lib/python3.6/site-packages (from importlib-metadata<5.0,>=1.4.0->sagemaker>=2.92) (3.4.0)\n",
      "Requirement already satisfied: typing-extensions>=3.6.4 in /home/ec2-user/anaconda3/envs/tensorflow2_p36/lib/python3.6/site-packages (from importlib-metadata<5.0,>=1.4.0->sagemaker>=2.92) (4.0.1)\n",
      "Requirement already satisfied: pyasn1>=0.1.3 in /home/ec2-user/anaconda3/envs/tensorflow2_p36/lib/python3.6/site-packages (from rsa<4.8,>=3.1.2->awscli) (0.4.8)\n",
      "Requirement already satisfied: pytz>=2017.2 in /home/ec2-user/anaconda3/envs/tensorflow2_p36/lib/python3.6/site-packages (from pandas->sagemaker>=2.92) (2021.1)\n",
      "Requirement already satisfied: dill>=0.3.4 in /home/ec2-user/anaconda3/envs/tensorflow2_p36/lib/python3.6/site-packages (from pathos->sagemaker>=2.92) (0.3.4)\n",
      "Requirement already satisfied: ppft>=1.6.6.4 in /home/ec2-user/anaconda3/envs/tensorflow2_p36/lib/python3.6/site-packages (from pathos->sagemaker>=2.92) (1.6.6.4)\n",
      "Requirement already satisfied: multiprocess>=0.70.12 in /home/ec2-user/anaconda3/envs/tensorflow2_p36/lib/python3.6/site-packages (from pathos->sagemaker>=2.92) (0.70.12.2)\n",
      "Requirement already satisfied: pox>=0.3.0 in /home/ec2-user/anaconda3/envs/tensorflow2_p36/lib/python3.6/site-packages (from pathos->sagemaker>=2.92) (0.3.0)\n"
     ]
    }
   ],
   "source": [
    "!pip install \"sagemaker>=2.92\" botocore boto3 awscli matplotlib --upgrade"
   ]
  },
  {
   "cell_type": "code",
   "execution_count": 2,
   "id": "263a6414",
   "metadata": {},
   "outputs": [
    {
     "name": "stdout",
     "output_type": "stream",
     "text": [
      "botocore: 1.26.10\n",
      "boto3: 1.23.10\n",
      "sagemaker: 2.94.0\n"
     ]
    }
   ],
   "source": [
    "import botocore\n",
    "import boto3\n",
    "import sagemaker\n",
    "\n",
    "print(f\"botocore: {botocore.__version__}\")\n",
    "print(f\"boto3: {boto3.__version__}\")\n",
    "print(f\"sagemaker: {sagemaker.__version__}\")"
   ]
  },
  {
   "cell_type": "markdown",
   "id": "38561fde",
   "metadata": {},
   "source": [
    "### SageMaker environment "
   ]
  },
  {
   "cell_type": "code",
   "execution_count": 3,
   "id": "c00c4511",
   "metadata": {},
   "outputs": [
    {
     "name": "stdout",
     "output_type": "stream",
     "text": [
      "sagemaker role arn: arn:aws:iam::875423407011:role/service-role/AmazonSageMaker-ExecutionRole-20220609T112287\n",
      "sagemaker bucket: sagemaker-us-west-2-875423407011\n",
      "sagemaker session region: us-west-2\n"
     ]
    }
   ],
   "source": [
    "import sagemaker\n",
    "\n",
    "sess = sagemaker.Session()\n",
    "\n",
    "# SageMaker session bucket -> used for uploading data, models and logs\n",
    "# SageMaker will automatically create this bucket if it does not exist\n",
    "sagemaker_session_bucket = None\n",
    "if sagemaker_session_bucket is None and sess is not None:\n",
    "    # set to default bucket if a bucket name is not given\n",
    "    sagemaker_session_bucket = sess.default_bucket()\n",
    "\n",
    "role = sagemaker.get_execution_role()\n",
    "sess = sagemaker.Session(default_bucket=sagemaker_session_bucket)\n",
    "\n",
    "print(f\"sagemaker role arn: {role}\")\n",
    "print(f\"sagemaker bucket: {sagemaker_session_bucket}\")\n",
    "print(f\"sagemaker session region: {sess.boto_region_name}\")"
   ]
  },
  {
   "cell_type": "markdown",
   "id": "e514c16f",
   "metadata": {},
   "source": [
    "## Working with the Caltech-256 dataset\n",
    "\n",
    "We have hosted the [Caltech-256](https://authors.library.caltech.edu/7694/) dataset in S3 in us-east-1. We will transfer this dataset to your account and region for use with SageMaker Training.\n",
    "\n",
    "The dataset consists of JPEG images organized into directories with each directory representing an object category."
   ]
  },
  {
   "cell_type": "code",
   "execution_count": 4,
   "id": "aa0ab500",
   "metadata": {},
   "outputs": [
    {
     "data": {
      "text/plain": [
       "0"
      ]
     },
     "execution_count": 4,
     "metadata": {},
     "output_type": "execute_result"
    }
   ],
   "source": [
    "import os\n",
    "\n",
    "source = \"s3://sagemaker-sample-files/datasets/image/caltech-256/256_ObjectCategories\"\n",
    "destn = f\"s3://{sagemaker_session_bucket}/caltech-256\"\n",
    "local = \"caltech-256\"\n",
    "\n",
    "os.system(f\"aws s3 sync {source} {local}\")\n",
    "os.system(f\"aws s3 sync {local} {destn}\")"
   ]
  },
  {
   "cell_type": "markdown",
   "id": "cebfc40a",
   "metadata": {},
   "source": [
    "## SageMaker Training Job\n",
    "\n",
    "To create a SageMaker training job, we use a `TensorFlow` estimator. Using the estimator, you can define which training script should SageMaker use through `entry_point`, which `instance_type` to use for training, which `hyperparameters` to pass, and so on.\n",
    "\n",
    "When a SageMaker training job starts, SageMaker takes care of starting and managing all the required machine learning instances, picks up the `TensorFlow` Deep Learning Container, uploads your training script, and downloads the data from `sagemaker_session_bucket` into the container at `/opt/ml/input/data`.\n",
    "\n",
    "In the following section, you learn how to set up two versions of the SageMaker `TensorFlow` estimator, a native one without the compiler and an optimized one with the compiler."
   ]
  },
  {
   "cell_type": "markdown",
   "id": "e9431f65",
   "metadata": {},
   "source": [
    "### Training Setup\n",
    "\n",
    "Set up the basic configuration for training. Set `EPOCHS` to the number of times you would like to loop over the training data."
   ]
  },
  {
   "cell_type": "code",
   "execution_count": 5,
   "id": "44cb5c48",
   "metadata": {},
   "outputs": [],
   "source": [
    "TRCOMP_IMAGE_URI = \"763104351884.dkr.ecr.us-west-2.amazonaws.com/tensorflow-training:2.9.1-gpu-py39-cu112-ubuntu20.04-sagemaker\"\n",
    "EPOCHS = 10\n",
    "\n",
    "num_gpus_per_instance = 4"
   ]
  },
  {
   "cell_type": "markdown",
   "id": "d137f7bc",
   "metadata": {},
   "source": [
    "### Training with Native TensorFlow\n",
    "\n",
    "The `BATCH_SIZE` in the following code cell is the maximum batch that can fit into the memory of a `ml.p3.8xlarge` instance while giving the best training speed. If you change the model, instance type, and other parameters, you need to do some experiments to find the largest batch size that will fit into GPU memory."
   ]
  },
  {
   "cell_type": "code",
   "execution_count": 6,
   "id": "d972a1f3",
   "metadata": {},
   "outputs": [
    {
     "data": {
      "text/plain": [
       "'native-tf29-vit-2022-06-15-23-00-09-607'"
      ]
     },
     "execution_count": 6,
     "metadata": {},
     "output_type": "execute_result"
    }
   ],
   "source": [
    "from sagemaker.tensorflow import TensorFlow\n",
    "\n",
    "BATCH_SIZE = 64 * num_gpus_per_instance\n",
    "LEARNING_RATE = 1e-3\n",
    "WEIGHT_DECAY = 1e-4\n",
    "\n",
    "kwargs = dict(\n",
    "    source_dir=\"scripts\",\n",
    "    entry_point=\"vit.py\",\n",
    "    model_dir=False,\n",
    "    instance_type=\"ml.p3.8xlarge\",\n",
    "    instance_count=1,\n",
    "    image_uri=TRCOMP_IMAGE_URI,\n",
    "    debugger_hook_config=None,\n",
    "    disable_profiler=True,\n",
    "    max_run=60 * 60,  # 60 minutes\n",
    "    role=role,\n",
    "    metric_definitions=[\n",
    "        {\"Name\": \"training_loss\", \"Regex\": \"loss: ([0-9.]*?) \"},\n",
    "        {\"Name\": \"training_accuracy\", \"Regex\": \"accuracy: ([0-9.]*?) \"},\n",
    "        {\"Name\": \"training_latency_per_epoch\", \"Regex\": \"- ([0-9.]*?)s/epoch\"},\n",
    "        {\"Name\": \"training_avg_latency_per_step\", \"Regex\": \"- ([0-9.]*?)ms/step\"},\n",
    "    ],\n",
    ")\n",
    "\n",
    "# Configure the training job\n",
    "native_estimator = TensorFlow(\n",
    "    hyperparameters={\n",
    "        \"EPOCHS\": EPOCHS,\n",
    "        \"BATCH_SIZE\": BATCH_SIZE,\n",
    "        \"LEARNING_RATE\": LEARNING_RATE,\n",
    "        \"WEIGHT_DECAY\": WEIGHT_DECAY,\n",
    "    },\n",
    "    base_job_name=\"native-tf29-vit\",\n",
    "    **kwargs,\n",
    ")\n",
    "\n",
    "# Start training with our uploaded datasets as input\n",
    "native_estimator.fit(inputs=destn, wait=False)\n",
    "\n",
    "# The name of the training job.\n",
    "native_estimator.latest_training_job.name"
   ]
  },
  {
   "cell_type": "markdown",
   "id": "0732de79",
   "metadata": {},
   "source": [
    "### Training with Optimized TensorFlow\n",
    "\n",
    "Compilation through Training Compiler changes the memory footprint of the model. Most commonly, this manifests as a reduction in memory utilization and a consequent increase in the largest batch size that can fit on the GPU. But in some cases the compiler intelligently promotes caching which leads to a decrease in the largest batch size that can fit on the GPU. Note that if you want to change the batch size, you must adjust the learning rate appropriately.\n",
    "\n",
    "**Note:** We recommend you to turn the SageMaker Debugger's profiling and debugging tools off when you use compilation to avoid additional overheads."
   ]
  },
  {
   "cell_type": "code",
   "execution_count": 7,
   "id": "23f11924",
   "metadata": {},
   "outputs": [
    {
     "data": {
      "text/plain": [
       "'optimized-tf29-vit-2022-06-15-23-00-10-246'"
      ]
     },
     "execution_count": 7,
     "metadata": {},
     "output_type": "execute_result"
    }
   ],
   "source": [
    "# TODO: Change how TrainingCompilerConfig is used after SDK release\n",
    "\n",
    "from sagemaker.tensorflow import TensorFlow\n",
    "from sagemaker.training_compiler.config import TrainingCompilerConfig\n",
    "\n",
    "OPTIMIZED_BATCH_SIZE = 48 * num_gpus_per_instance\n",
    "LEARNING_RATE = LEARNING_RATE / BATCH_SIZE * OPTIMIZED_BATCH_SIZE\n",
    "WEIGHT_DECAY = WEIGHT_DECAY * BATCH_SIZE / OPTIMIZED_BATCH_SIZE\n",
    "\n",
    "# Configure the training job\n",
    "optimized_estimator = TensorFlow(\n",
    "    hyperparameters={\n",
    "        TrainingCompilerConfig.HP_ENABLE_COMPILER: True,\n",
    "        \"EPOCHS\": EPOCHS,\n",
    "        \"BATCH_SIZE\": OPTIMIZED_BATCH_SIZE,\n",
    "        \"LEARNING_RATE\": LEARNING_RATE,\n",
    "        \"WEIGHT_DECAY\": WEIGHT_DECAY,\n",
    "    },\n",
    "    base_job_name=\"optimized-tf29-vit\",\n",
    "    **kwargs,\n",
    ")\n",
    "\n",
    "# Start training with our uploaded datasets as input\n",
    "optimized_estimator.fit(inputs=destn, wait=False)\n",
    "\n",
    "# The name of the training job.\n",
    "optimized_estimator.latest_training_job.name"
   ]
  },
  {
   "cell_type": "markdown",
   "id": "2551f32a",
   "metadata": {},
   "source": [
    "### Wait for training jobs to complete\n",
    "\n",
    "The training jobs described above typically take around 40 mins to complete"
   ]
  },
  {
   "cell_type": "markdown",
   "id": "821c8974",
   "metadata": {},
   "source": [
    "**Note:** If the estimator object is no longer available due to a kernel break or refresh, you need to directly use the training job name and manually attach the training job to a new TensorFlow estimator. For example:\n",
    "\n",
    "```python\n",
    "native_estimator = TensorFlow.attach(\"<your_training_job_name>\")\n",
    "```"
   ]
  },
  {
   "cell_type": "code",
   "execution_count": 8,
   "id": "da780d46",
   "metadata": {
    "scrolled": true
   },
   "outputs": [
    {
     "name": "stdout",
     "output_type": "stream",
     "text": [
      "\n",
      "2022-06-15 23:00:10 Starting - Starting the training job.........\n",
      "2022-06-15 23:00:59 Starting - Preparing the instances for training...............\n",
      "2022-06-15 23:02:16 Downloading - Downloading input data...........................................\n",
      "2022-06-15 23:06:02 Training - Downloading the training image......\n",
      "2022-06-15 23:06:33 Training - Training image download completed. Training in progress...................................................................................................................................\n",
      "2022-06-15 23:17:31 Uploading - Uploading generated training model\n",
      "2022-06-15 23:17:37 Completed - Training job completed\n",
      "\n",
      "2022-06-15 23:16:17 Starting - Preparing the instances for training\n",
      "2022-06-15 23:16:17 Downloading - Downloading input data\n",
      "2022-06-15 23:16:17 Training - Training image download completed. Training in progress.\n",
      "2022-06-15 23:16:17 Uploading - Uploading generated training model\n",
      "2022-06-15 23:16:17 Completed - Training job completed\n"
     ]
    }
   ],
   "source": [
    "native_estimator = TensorFlow.attach(native_estimator.latest_training_job.name)\n",
    "optimized_estimator = TensorFlow.attach(optimized_estimator.latest_training_job.name)"
   ]
  },
  {
   "cell_type": "markdown",
   "id": "4437d430",
   "metadata": {},
   "source": [
    "## Analysis\n",
    "\n",
    "Here we view the training metrics from the training jobs as a Pandas dataframe\n",
    "\n",
    "#### Native TensorFlow"
   ]
  },
  {
   "cell_type": "code",
   "execution_count": 18,
   "id": "542908f1",
   "metadata": {},
   "outputs": [
    {
     "data": {
      "text/html": [
       "<div>\n",
       "<style scoped>\n",
       "    .dataframe tbody tr th:only-of-type {\n",
       "        vertical-align: middle;\n",
       "    }\n",
       "\n",
       "    .dataframe tbody tr th {\n",
       "        vertical-align: top;\n",
       "    }\n",
       "\n",
       "    .dataframe thead th {\n",
       "        text-align: right;\n",
       "    }\n",
       "</style>\n",
       "<table border=\"1\" class=\"dataframe\">\n",
       "  <thead>\n",
       "    <tr style=\"text-align: right;\">\n",
       "      <th></th>\n",
       "      <th>training_loss</th>\n",
       "      <th>training_accuracy</th>\n",
       "      <th>training_latency_per_epoch</th>\n",
       "      <th>training_avg_latency_per_step</th>\n",
       "    </tr>\n",
       "    <tr>\n",
       "      <th>timestamp</th>\n",
       "      <th></th>\n",
       "      <th></th>\n",
       "      <th></th>\n",
       "      <th></th>\n",
       "    </tr>\n",
       "  </thead>\n",
       "  <tbody>\n",
       "    <tr>\n",
       "      <th>0.0</th>\n",
       "      <td>5.64200</td>\n",
       "      <td>0.02240</td>\n",
       "      <td>164.0</td>\n",
       "      <td>442.5</td>\n",
       "    </tr>\n",
       "    <tr>\n",
       "      <th>60.0</th>\n",
       "      <td>5.57680</td>\n",
       "      <td>0.02605</td>\n",
       "      <td>32.0</td>\n",
       "      <td>442.0</td>\n",
       "    </tr>\n",
       "    <tr>\n",
       "      <th>120.0</th>\n",
       "      <td>5.54985</td>\n",
       "      <td>0.02770</td>\n",
       "      <td>32.0</td>\n",
       "      <td>443.0</td>\n",
       "    </tr>\n",
       "    <tr>\n",
       "      <th>180.0</th>\n",
       "      <td>5.54090</td>\n",
       "      <td>0.02895</td>\n",
       "      <td>32.0</td>\n",
       "      <td>442.5</td>\n",
       "    </tr>\n",
       "    <tr>\n",
       "      <th>240.0</th>\n",
       "      <td>5.54125</td>\n",
       "      <td>0.02940</td>\n",
       "      <td>32.0</td>\n",
       "      <td>443.0</td>\n",
       "    </tr>\n",
       "    <tr>\n",
       "      <th>300.0</th>\n",
       "      <td>5.52580</td>\n",
       "      <td>0.03050</td>\n",
       "      <td>32.0</td>\n",
       "      <td>NaN</td>\n",
       "    </tr>\n",
       "  </tbody>\n",
       "</table>\n",
       "</div>"
      ],
      "text/plain": [
       "           training_loss  training_accuracy  training_latency_per_epoch  \\\n",
       "timestamp                                                                 \n",
       "0.0              5.64200            0.02240                       164.0   \n",
       "60.0             5.57680            0.02605                        32.0   \n",
       "120.0            5.54985            0.02770                        32.0   \n",
       "180.0            5.54090            0.02895                        32.0   \n",
       "240.0            5.54125            0.02940                        32.0   \n",
       "300.0            5.52580            0.03050                        32.0   \n",
       "\n",
       "           training_avg_latency_per_step  \n",
       "timestamp                                 \n",
       "0.0                                442.5  \n",
       "60.0                               442.0  \n",
       "120.0                              443.0  \n",
       "180.0                              442.5  \n",
       "240.0                              443.0  \n",
       "300.0                                NaN  "
      ]
     },
     "execution_count": 18,
     "metadata": {},
     "output_type": "execute_result"
    }
   ],
   "source": [
    "import pandas as pd\n",
    "\n",
    "# Extract training metrics from the estimator\n",
    "native_metrics = native_estimator.training_job_analytics.dataframe()\n",
    "\n",
    "# Restructure table for viewing\n",
    "for metric in native_metrics[\"metric_name\"].unique():\n",
    "    native_metrics[metric] = native_metrics[native_metrics[\"metric_name\"] == metric][\"value\"]\n",
    "native_metrics = native_metrics.drop(columns=[\"metric_name\", \"value\"])\n",
    "native_metrics = native_metrics.groupby(\"timestamp\").max()\n",
    "# SageMaker Training metrics are captured at a resolution of 1 minute. Metrics might not be captured for every single epoch\n",
    "# native_metrics[\"epochs\"] = range(1, 11)\n",
    "# native_metrics = native_metrics.set_index(\"epochs\")\n",
    "\n",
    "native_metrics"
   ]
  },
  {
   "cell_type": "markdown",
   "id": "cc99bccc",
   "metadata": {},
   "source": [
    "#### Optimized TensorFlow"
   ]
  },
  {
   "cell_type": "code",
   "execution_count": 19,
   "id": "3d639db9",
   "metadata": {},
   "outputs": [
    {
     "data": {
      "text/html": [
       "<div>\n",
       "<style scoped>\n",
       "    .dataframe tbody tr th:only-of-type {\n",
       "        vertical-align: middle;\n",
       "    }\n",
       "\n",
       "    .dataframe tbody tr th {\n",
       "        vertical-align: top;\n",
       "    }\n",
       "\n",
       "    .dataframe thead th {\n",
       "        text-align: right;\n",
       "    }\n",
       "</style>\n",
       "<table border=\"1\" class=\"dataframe\">\n",
       "  <thead>\n",
       "    <tr style=\"text-align: right;\">\n",
       "      <th></th>\n",
       "      <th>training_loss</th>\n",
       "      <th>training_accuracy</th>\n",
       "      <th>training_latency_per_epoch</th>\n",
       "      <th>training_avg_latency_per_step</th>\n",
       "    </tr>\n",
       "    <tr>\n",
       "      <th>timestamp</th>\n",
       "      <th></th>\n",
       "      <th></th>\n",
       "      <th></th>\n",
       "      <th></th>\n",
       "    </tr>\n",
       "  </thead>\n",
       "  <tbody>\n",
       "    <tr>\n",
       "      <th>0.0</th>\n",
       "      <td>5.616000</td>\n",
       "      <td>0.025100</td>\n",
       "      <td>173.000000</td>\n",
       "      <td>216.666667</td>\n",
       "    </tr>\n",
       "    <tr>\n",
       "      <th>60.0</th>\n",
       "      <td>5.542433</td>\n",
       "      <td>0.027833</td>\n",
       "      <td>20.666667</td>\n",
       "      <td>219.500000</td>\n",
       "    </tr>\n",
       "    <tr>\n",
       "      <th>120.0</th>\n",
       "      <td>5.525200</td>\n",
       "      <td>0.029150</td>\n",
       "      <td>21.000000</td>\n",
       "      <td>212.000000</td>\n",
       "    </tr>\n",
       "    <tr>\n",
       "      <th>180.0</th>\n",
       "      <td>5.514533</td>\n",
       "      <td>0.029667</td>\n",
       "      <td>20.000000</td>\n",
       "      <td>211.000000</td>\n",
       "    </tr>\n",
       "    <tr>\n",
       "      <th>240.0</th>\n",
       "      <td>5.511400</td>\n",
       "      <td>0.028900</td>\n",
       "      <td>20.000000</td>\n",
       "      <td>NaN</td>\n",
       "    </tr>\n",
       "  </tbody>\n",
       "</table>\n",
       "</div>"
      ],
      "text/plain": [
       "           training_loss  training_accuracy  training_latency_per_epoch  \\\n",
       "timestamp                                                                 \n",
       "0.0             5.616000           0.025100                  173.000000   \n",
       "60.0            5.542433           0.027833                   20.666667   \n",
       "120.0           5.525200           0.029150                   21.000000   \n",
       "180.0           5.514533           0.029667                   20.000000   \n",
       "240.0           5.511400           0.028900                   20.000000   \n",
       "\n",
       "           training_avg_latency_per_step  \n",
       "timestamp                                 \n",
       "0.0                           216.666667  \n",
       "60.0                          219.500000  \n",
       "120.0                         212.000000  \n",
       "180.0                         211.000000  \n",
       "240.0                                NaN  "
      ]
     },
     "execution_count": 19,
     "metadata": {},
     "output_type": "execute_result"
    }
   ],
   "source": [
    "import pandas as pd\n",
    "\n",
    "# Extract training metrics from the estimator\n",
    "optimized_metrics = optimized_estimator.training_job_analytics.dataframe()\n",
    "\n",
    "# Restructure table for viewing\n",
    "for metric in optimized_metrics[\"metric_name\"].unique():\n",
    "    optimized_metrics[metric] = optimized_metrics[optimized_metrics[\"metric_name\"] == metric][\n",
    "        \"value\"\n",
    "    ]\n",
    "optimized_metrics = optimized_metrics.drop(columns=[\"metric_name\", \"value\"])\n",
    "optimized_metrics = optimized_metrics.groupby(\"timestamp\").max()\n",
    "# SageMaker Training metrics are captured at a resolution of 1 minute. Metrics might not be captured for every single epoch\n",
    "# optimized_metrics[\"epochs\"] = range(1, 11)\n",
    "# optimized_metrics = optimized_metrics.set_index(\"epochs\")\n",
    "\n",
    "optimized_metrics"
   ]
  },
  {
   "cell_type": "markdown",
   "id": "2a85bfbe",
   "metadata": {},
   "source": [
    "### Savings from Training Compiler\n",
    "\n",
    "Let us calculate the actual savings on the training jobs above and the potential for savings for a longer training job.\n",
    "\n",
    "#### Actual Savings\n",
    "\n",
    "To get the actual savings, we use the describe_training_job API to get the billable seconds for each training job."
   ]
  },
  {
   "cell_type": "code",
   "execution_count": 20,
   "id": "6046b5df",
   "metadata": {},
   "outputs": [
    {
     "data": {
      "text/plain": [
       "921"
      ]
     },
     "execution_count": 20,
     "metadata": {},
     "output_type": "execute_result"
    }
   ],
   "source": [
    "# Billable seconds for the Native TensorFlow Training job\n",
    "\n",
    "details = sess.describe_training_job(job_name=native_estimator.latest_training_job.name)\n",
    "native_secs = details[\"BillableTimeInSeconds\"]\n",
    "\n",
    "native_secs"
   ]
  },
  {
   "cell_type": "code",
   "execution_count": 21,
   "id": "fa9a2df0",
   "metadata": {},
   "outputs": [
    {
     "data": {
      "text/plain": [
       "845"
      ]
     },
     "execution_count": 21,
     "metadata": {},
     "output_type": "execute_result"
    }
   ],
   "source": [
    "# Billable seconds for the Optimized TensorFlow Training job\n",
    "\n",
    "details = sess.describe_training_job(job_name=optimized_estimator.latest_training_job.name)\n",
    "optimized_secs = details[\"BillableTimeInSeconds\"]\n",
    "\n",
    "optimized_secs"
   ]
  },
  {
   "cell_type": "code",
   "execution_count": 22,
   "id": "fe389864",
   "metadata": {},
   "outputs": [
    {
     "data": {
      "text/plain": [
       "'Training Compiler yielded 8.25% savings in training cost.'"
      ]
     },
     "execution_count": 22,
     "metadata": {},
     "output_type": "execute_result"
    }
   ],
   "source": [
    "# Calculating percentage Savings from Training Compiler\n",
    "\n",
    "percentage = (native_secs - optimized_secs) * 100 / native_secs\n",
    "\n",
    "f\"Training Compiler yielded {percentage:.2f}% savings in training cost.\""
   ]
  },
  {
   "cell_type": "markdown",
   "id": "df0df3d7",
   "metadata": {},
   "source": [
    "#### Potential savings\n",
    "\n",
    "The Training Compiler works by compiling the model graph once per input shape and reusing the cached graph for subsequent steps. As a result the first few steps of training incur an increased latency owing to compilation which we refer to as the compilation overhead. This overhead is amortized over time thanks to the subsequent steps being much faster. We will demonstrate this below."
   ]
  },
  {
   "cell_type": "code",
   "execution_count": 23,
   "id": "340a42f6",
   "metadata": {
    "scrolled": true
   },
   "outputs": [
    {
     "data": {
      "text/plain": [
       "<matplotlib.legend.Legend at 0x7f82a9fd3470>"
      ]
     },
     "execution_count": 23,
     "metadata": {},
     "output_type": "execute_result"
    },
    {
     "data": {
      "image/png": "[encoded data removed]",
      "text/plain": [
       "<Figure size 432x288 with 1 Axes>"
      ]
     },
     "metadata": {
      "needs_background": "light"
     },
     "output_type": "display_data"
    }
   ],
   "source": [
    "import matplotlib.pyplot as plt\n",
    "\n",
    "plt.plot(native_metrics[\"training_latency_per_epoch\"], label=\"native_epoch_latency\")\n",
    "plt.plot(optimized_metrics[\"training_latency_per_epoch\"], label=\"optimized_epoch_latency\")\n",
    "plt.legend()"
   ]
  },
  {
   "cell_type": "markdown",
   "id": "45717e24",
   "metadata": {},
   "source": [
    "We calculate the potential savings below from the difference in steady state epoch latency between native TensorFlow and optimized TensorFlow"
   ]
  },
  {
   "cell_type": "code",
   "execution_count": 24,
   "id": "5ecc0b5c",
   "metadata": {},
   "outputs": [
    {
     "data": {
      "text/plain": [
       "32.0"
      ]
     },
     "execution_count": 24,
     "metadata": {},
     "output_type": "execute_result"
    }
   ],
   "source": [
    "native_steady_state_latency = native_metrics[\"training_latency_per_epoch\"].iloc[-1]\n",
    "\n",
    "native_steady_state_latency"
   ]
  },
  {
   "cell_type": "code",
   "execution_count": 25,
   "id": "6fef6de1",
   "metadata": {},
   "outputs": [
    {
     "data": {
      "text/plain": [
       "20.0"
      ]
     },
     "execution_count": 25,
     "metadata": {},
     "output_type": "execute_result"
    }
   ],
   "source": [
    "optimized_steady_state_latency = optimized_metrics[\"training_latency_per_epoch\"].iloc[-1]\n",
    "\n",
    "optimized_steady_state_latency"
   ]
  },
  {
   "cell_type": "code",
   "execution_count": 26,
   "id": "b3e0c86c",
   "metadata": {},
   "outputs": [
    {
     "data": {
      "text/plain": [
       "'Training Compiler can potentially yield 37.50% savings in training cost for a longer training job.'"
      ]
     },
     "execution_count": 26,
     "metadata": {},
     "output_type": "execute_result"
    }
   ],
   "source": [
    "# Calculating potential percentage Savings from Training Compiler\n",
    "\n",
    "percentage = (\n",
    "    (native_steady_state_latency - optimized_steady_state_latency)\n",
    "    * 100\n",
    "    / native_steady_state_latency\n",
    ")\n",
    "\n",
    "f\"Training Compiler can potentially yield {percentage:.2f}% savings in training cost for a longer training job.\""
   ]
  },
  {
   "cell_type": "markdown",
   "id": "191fb9b2",
   "metadata": {},
   "source": [
    "### Convergence of Training\n",
    "\n",
    "Training Compiler brings down total training time by intelligently choosing between memory utilization and core utilization in the GPU. This does not have any effect on the model arithmetic and consequently convergence of the model.\n",
    "\n",
    "However, since we are working with a new batch size, hyperparameters like - learning rate, learning rate schedule and weight decay might have to be scaled and tuned for the new batch size"
   ]
  },
  {
   "cell_type": "code",
   "execution_count": 27,
   "id": "582d98dd",
   "metadata": {},
   "outputs": [
    {
     "data": {
      "text/plain": [
       "<matplotlib.legend.Legend at 0x7f82aa68ae48>"
      ]
     },
     "execution_count": 27,
     "metadata": {},
     "output_type": "execute_result"
    },
    {
     "data": {
      "image/png": "[encoded data removed]",
      "text/plain": [
       "<Figure size 432x288 with 1 Axes>"
      ]
     },
     "metadata": {
      "needs_background": "light"
     },
     "output_type": "display_data"
    }
   ],
   "source": [
    "import matplotlib.pyplot as plt\n",
    "\n",
    "plt.plot(native_metrics[\"training_loss\"], label=\"native_loss\")\n",
    "plt.plot(optimized_metrics[\"training_loss\"], label=\"optimized_loss\")\n",
    "plt.legend()"
   ]
  },
  {
   "cell_type": "markdown",
   "id": "908c935e",
   "metadata": {},
   "source": [
    "We can see that the model's convergence behavior is similar with and without Training Compiler. Here we have tuned the batch size specific hyperparameters - Learning Rate and Weight Decay using a linear scaling.\n",
    "\n",
    "Learning rate is directly proportional to the batch size:\n",
    "```python\n",
    "new_learning_rate = old_learning_rate * new_batch_size/old_batch_size\n",
    "```\n",
    "\n",
    "Weight decay is inversely proportional to the batch size:\n",
    "```python\n",
    "new_weight_decay = old_weight_decay * old_batch_size/new_batch_size\n",
    "```\n",
    "\n",
    "Better results can be achieved with further tuning. Check out [Automatic Model Tuning](https://docs.aws.amazon.com/sagemaker/latest/dg/automatic-model-tuning.html) for tuning."
   ]
  },
  {
   "cell_type": "markdown",
   "id": "f20e3a26",
   "metadata": {},
   "source": [
    "## Clean up\n",
    "\n",
    "Stop all training jobs launched if the jobs are still running."
   ]
  },
  {
   "cell_type": "code",
   "execution_count": null,
   "id": "ca08176f",
   "metadata": {},
   "outputs": [],
   "source": [
    "def stop_training_job(name):\n",
    "    status = sess.describe_training_job(name)[\"TrainingJobStatus\"]\n",
    "    if status == \"InProgress\":\n",
    "        sm.stop_training_job(TrainingJobName=name)\n",
    "\n",
    "\n",
    "stop_training_job(native_estimator.latest_training_job.name)\n",
    "stop_training_job(optimized_estimator.latest_training_job.name)"
   ]
  },
  {
   "cell_type": "markdown",
   "id": "777595fb",
   "metadata": {},
   "source": [
    "Also, to find instructions on cleaning up resources, see [Clean Up](https://docs.aws.amazon.com/sagemaker/latest/dg/ex1-cleanup.html) in the *Amazon SageMaker Developer Guide*."
   ]
  }
 ],
 "metadata": {
  "kernelspec": {
   "display_name": "Python 3 (ipykernel)",
   "language": "python",
   "name": "python3"
  },
  "language_info": {
   "codemirror_mode": {
    "name": "ipython",
    "version": 3
   },
   "file_extension": ".py",
   "mimetype": "text/x-python",
   "name": "python",
   "nbconvert_exporter": "python",
   "pygments_lexer": "ipython3",
   "version": "3.10.4"
  }
 },
 "nbformat": 4,
 "nbformat_minor": 5
}
